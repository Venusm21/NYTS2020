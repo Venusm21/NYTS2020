{
 "cells": [
  {
   "cell_type": "code",
   "execution_count": 1,
   "id": "1b10c8c6",
   "metadata": {},
   "outputs": [],
   "source": [
    "#Importing necessary Libraries\n",
    "import numpy as np\n",
    "import pandas as pd"
   ]
  },
  {
   "cell_type": "code",
   "execution_count": 2,
   "id": "075d8579",
   "metadata": {},
   "outputs": [
    {
     "name": "stdout",
     "output_type": "stream",
     "text": [
      "       QN1  QN2  QN8  QN9  QN11G  QN11H  QN11I  QN11J  QN11K  QN13  QN35  \\\n",
      "0      9.0  2.0    6   30      0      0      0      0      1     1     1   \n",
      "1      9.0  2.0    5    6      1      0      0      0      1     1     1   \n",
      "2      9.0  2.0    6   20      0      0      1      1      1     2     1   \n",
      "3      5.0  1.0    4   20      0      0      0      0      0     1     1   \n",
      "4     10.0  2.0    6   30      0      1      1      1      1     2     1   \n",
      "...    ...  ...  ...  ...    ...    ...    ...    ...    ...   ...   ...   \n",
      "5689   6.0  1.0    0   -1      0      0      0      0      0     0     2   \n",
      "5690   6.0  1.0    0   -1      0      0      0      0      0     0     2   \n",
      "5691   8.0  1.0    0   -1      0      0      0      0      0     0     2   \n",
      "5692   8.0  2.0    0   -1      0      0      0      0      0     0     2   \n",
      "5693   3.0  1.0    0   -1      0      0      0      0      0     0     2   \n",
      "\n",
      "      QN38  QN40  QN11C  \n",
      "0        1     1      0  \n",
      "1        1     1      0  \n",
      "2        1     1      0  \n",
      "3        1     1      0  \n",
      "4        1     1      0  \n",
      "...    ...   ...    ...  \n",
      "5689    -1     0      0  \n",
      "5690    -1     0      0  \n",
      "5691    -1     0      0  \n",
      "5692    -1     0      0  \n",
      "5693    -1     0      0  \n",
      "\n",
      "[5694 rows x 14 columns]\n"
     ]
    }
   ],
   "source": [
    "dataframe = pd.read_excel('NYTS 2020.xlsx')\n",
    "\n",
    "print(dataframe)"
   ]
  },
  {
   "cell_type": "code",
   "execution_count": 3,
   "id": "39737ff8",
   "metadata": {},
   "outputs": [
    {
     "data": {
      "text/plain": [
       "array([0, 0, 0, ..., 0, 0, 0])"
      ]
     },
     "execution_count": 3,
     "metadata": {},
     "output_type": "execute_result"
    }
   ],
   "source": [
    "#Generating Dependent Variable Vectors\n",
    "Y = dataframe.iloc[:,-1].values\n",
    "Y"
   ]
  },
  {
   "cell_type": "code",
   "execution_count": 4,
   "id": "2122d863",
   "metadata": {},
   "outputs": [
    {
     "data": {
      "text/plain": [
       "array([[ 9.,  2.,  6., ...,  1.,  1.,  1.],\n",
       "       [ 9.,  2.,  5., ...,  1.,  1.,  1.],\n",
       "       [ 9.,  2.,  6., ...,  1.,  1.,  1.],\n",
       "       ...,\n",
       "       [ 8.,  1.,  0., ...,  2., -1.,  0.],\n",
       "       [ 8.,  2.,  0., ...,  2., -1.,  0.],\n",
       "       [ 3.,  1.,  0., ...,  2., -1.,  0.]])"
      ]
     },
     "execution_count": 4,
     "metadata": {},
     "output_type": "execute_result"
    }
   ],
   "source": [
    "#Generating Independent Variables Vectors\n",
    "X = dataframe.iloc[:,0:-1].values\n",
    "X"
   ]
  },
  {
   "cell_type": "code",
   "execution_count": 5,
   "id": "ce7ac63f",
   "metadata": {},
   "outputs": [],
   "source": [
    "#Splitting dataset into training and testing dataset\n",
    "from sklearn.model_selection import train_test_split\n",
    "X_train,X_test,Y_train,Y_test = train_test_split(X,Y,test_size=0.2,random_state=0)"
   ]
  },
  {
   "cell_type": "code",
   "execution_count": 6,
   "id": "68b7287d",
   "metadata": {},
   "outputs": [],
   "source": [
    "#Performing Feature Scaling\n",
    "from sklearn.preprocessing import StandardScaler\n",
    "sc = StandardScaler()\n",
    "X_train = sc.fit_transform(X_train)\n",
    "X_test = sc.transform(X_test)"
   ]
  },
  {
   "cell_type": "code",
   "execution_count": 7,
   "id": "d560ffdc",
   "metadata": {},
   "outputs": [
    {
     "name": "stderr",
     "output_type": "stream",
     "text": [
      "2023-05-02 08:46:08.564929: I tensorflow/core/platform/cpu_feature_guard.cc:182] This TensorFlow binary is optimized to use available CPU instructions in performance-critical operations.\n",
      "To enable the following instructions: AVX2 FMA, in other operations, rebuild TensorFlow with the appropriate compiler flags.\n"
     ]
    }
   ],
   "source": [
    "import keras\n",
    "from keras.models import Sequential\n",
    "from keras.layers import Dense"
   ]
  },
  {
   "cell_type": "code",
   "execution_count": 8,
   "id": "24795b7e",
   "metadata": {},
   "outputs": [],
   "source": [
    "import tensorflow as tf\n",
    "#Initialising ANN\n",
    "ann = tf.keras.models.Sequential()"
   ]
  },
  {
   "cell_type": "code",
   "execution_count": 9,
   "id": "60a86285",
   "metadata": {},
   "outputs": [],
   "source": [
    "#Adding First Hidden Layer\n",
    "ann.add(tf.keras.layers.Dense(units=6,activation=\"relu\"))"
   ]
  },
  {
   "cell_type": "code",
   "execution_count": 10,
   "id": "e9696636",
   "metadata": {},
   "outputs": [],
   "source": [
    " #Adding Second Hidden Layer\n",
    "ann.add(tf.keras.layers.Dense(units=6,activation=\"relu\"))"
   ]
  },
  {
   "cell_type": "code",
   "execution_count": 11,
   "id": "0be91c59",
   "metadata": {},
   "outputs": [],
   "source": [
    "#Adding Output Layer\n",
    "ann.add(tf.keras.layers.Dense(units=1,activation=\"sigmoid\"))"
   ]
  },
  {
   "cell_type": "code",
   "execution_count": 12,
   "id": "67c1f609",
   "metadata": {},
   "outputs": [],
   "source": [
    "#Compiling ANN\n",
    "ann.compile(optimizer=\"adam\",loss=\"binary_crossentropy\",metrics=['accuracy'])"
   ]
  },
  {
   "cell_type": "code",
   "execution_count": 13,
   "id": "6a714efa",
   "metadata": {},
   "outputs": [
    {
     "name": "stdout",
     "output_type": "stream",
     "text": [
      "Epoch 1/100\n",
      "143/143 [==============================] - 1s 951us/step - loss: nan - accuracy: 0.9618\n",
      "Epoch 2/100\n",
      "143/143 [==============================] - 0s 732us/step - loss: nan - accuracy: 0.9774\n",
      "Epoch 3/100\n",
      "143/143 [==============================] - 0s 720us/step - loss: nan - accuracy: 0.9774\n",
      "Epoch 4/100\n",
      "143/143 [==============================] - 0s 725us/step - loss: nan - accuracy: 0.9774\n",
      "Epoch 5/100\n",
      "143/143 [==============================] - 0s 722us/step - loss: nan - accuracy: 0.9774\n",
      "Epoch 6/100\n",
      "143/143 [==============================] - 0s 724us/step - loss: nan - accuracy: 0.9774\n",
      "Epoch 7/100\n",
      "143/143 [==============================] - 0s 725us/step - loss: nan - accuracy: 0.9774\n",
      "Epoch 8/100\n",
      "143/143 [==============================] - 0s 706us/step - loss: nan - accuracy: 0.9774\n",
      "Epoch 9/100\n",
      "143/143 [==============================] - 0s 698us/step - loss: nan - accuracy: 0.9774\n",
      "Epoch 10/100\n",
      "143/143 [==============================] - 0s 705us/step - loss: nan - accuracy: 0.9774\n",
      "Epoch 11/100\n",
      "143/143 [==============================] - 0s 701us/step - loss: nan - accuracy: 0.9774\n",
      "Epoch 12/100\n",
      "143/143 [==============================] - 0s 713us/step - loss: nan - accuracy: 0.9774\n",
      "Epoch 13/100\n",
      "143/143 [==============================] - 0s 700us/step - loss: nan - accuracy: 0.9774\n",
      "Epoch 14/100\n",
      "143/143 [==============================] - 0s 697us/step - loss: nan - accuracy: 0.9774\n",
      "Epoch 15/100\n",
      "143/143 [==============================] - 0s 701us/step - loss: nan - accuracy: 0.9774\n",
      "Epoch 16/100\n",
      "143/143 [==============================] - 0s 712us/step - loss: nan - accuracy: 0.9774\n",
      "Epoch 17/100\n",
      "143/143 [==============================] - 0s 752us/step - loss: nan - accuracy: 0.9774\n",
      "Epoch 18/100\n",
      "143/143 [==============================] - 0s 795us/step - loss: nan - accuracy: 0.9774\n",
      "Epoch 19/100\n",
      "143/143 [==============================] - 0s 822us/step - loss: nan - accuracy: 0.9774\n",
      "Epoch 20/100\n",
      "143/143 [==============================] - 0s 809us/step - loss: nan - accuracy: 0.9774\n",
      "Epoch 21/100\n",
      "143/143 [==============================] - 0s 811us/step - loss: nan - accuracy: 0.9774\n",
      "Epoch 22/100\n",
      "143/143 [==============================] - 0s 729us/step - loss: nan - accuracy: 0.9774\n",
      "Epoch 23/100\n",
      "143/143 [==============================] - 0s 698us/step - loss: nan - accuracy: 0.9774\n",
      "Epoch 24/100\n",
      "143/143 [==============================] - 0s 710us/step - loss: nan - accuracy: 0.9774\n",
      "Epoch 25/100\n",
      "143/143 [==============================] - 0s 706us/step - loss: nan - accuracy: 0.9774\n",
      "Epoch 26/100\n",
      "143/143 [==============================] - 0s 709us/step - loss: nan - accuracy: 0.9774\n",
      "Epoch 27/100\n",
      "143/143 [==============================] - 0s 702us/step - loss: nan - accuracy: 0.9774\n",
      "Epoch 28/100\n",
      "143/143 [==============================] - 0s 722us/step - loss: nan - accuracy: 0.9774\n",
      "Epoch 29/100\n",
      "143/143 [==============================] - 0s 723us/step - loss: nan - accuracy: 0.9774\n",
      "Epoch 30/100\n",
      "143/143 [==============================] - 0s 721us/step - loss: nan - accuracy: 0.9774\n",
      "Epoch 31/100\n",
      "143/143 [==============================] - 0s 698us/step - loss: nan - accuracy: 0.9774\n",
      "Epoch 32/100\n",
      "143/143 [==============================] - 0s 698us/step - loss: nan - accuracy: 0.9774\n",
      "Epoch 33/100\n",
      "143/143 [==============================] - 0s 712us/step - loss: nan - accuracy: 0.9774\n",
      "Epoch 34/100\n",
      "143/143 [==============================] - 0s 789us/step - loss: nan - accuracy: 0.9774\n",
      "Epoch 35/100\n",
      "143/143 [==============================] - 0s 804us/step - loss: nan - accuracy: 0.9774\n",
      "Epoch 36/100\n",
      "143/143 [==============================] - 0s 791us/step - loss: nan - accuracy: 0.9774\n",
      "Epoch 37/100\n",
      "143/143 [==============================] - 0s 798us/step - loss: nan - accuracy: 0.9774\n",
      "Epoch 38/100\n",
      "143/143 [==============================] - 0s 788us/step - loss: nan - accuracy: 0.9774\n",
      "Epoch 39/100\n",
      "143/143 [==============================] - 0s 786us/step - loss: nan - accuracy: 0.9774\n",
      "Epoch 40/100\n",
      "143/143 [==============================] - 0s 782us/step - loss: nan - accuracy: 0.9774\n",
      "Epoch 41/100\n",
      "143/143 [==============================] - 0s 783us/step - loss: nan - accuracy: 0.9774\n",
      "Epoch 42/100\n",
      "143/143 [==============================] - 0s 731us/step - loss: nan - accuracy: 0.9774\n",
      "Epoch 43/100\n",
      "143/143 [==============================] - 0s 723us/step - loss: nan - accuracy: 0.9774\n",
      "Epoch 44/100\n",
      "143/143 [==============================] - 0s 932us/step - loss: nan - accuracy: 0.9774\n",
      "Epoch 45/100\n",
      "143/143 [==============================] - 0s 812us/step - loss: nan - accuracy: 0.9774\n",
      "Epoch 46/100\n",
      "143/143 [==============================] - 0s 817us/step - loss: nan - accuracy: 0.9774\n",
      "Epoch 47/100\n",
      "143/143 [==============================] - 0s 791us/step - loss: nan - accuracy: 0.9774\n",
      "Epoch 48/100\n",
      "143/143 [==============================] - 0s 794us/step - loss: nan - accuracy: 0.9774\n",
      "Epoch 49/100\n",
      "143/143 [==============================] - 0s 779us/step - loss: nan - accuracy: 0.9774\n",
      "Epoch 50/100\n",
      "143/143 [==============================] - 0s 784us/step - loss: nan - accuracy: 0.9774\n",
      "Epoch 51/100\n",
      "143/143 [==============================] - 0s 792us/step - loss: nan - accuracy: 0.9774\n",
      "Epoch 52/100\n",
      "143/143 [==============================] - 0s 785us/step - loss: nan - accuracy: 0.9774\n",
      "Epoch 53/100\n",
      "143/143 [==============================] - 0s 741us/step - loss: nan - accuracy: 0.9774\n",
      "Epoch 54/100\n",
      "143/143 [==============================] - 0s 726us/step - loss: nan - accuracy: 0.9774\n",
      "Epoch 55/100\n",
      "143/143 [==============================] - 0s 780us/step - loss: nan - accuracy: 0.9774\n",
      "Epoch 56/100\n",
      "143/143 [==============================] - 0s 726us/step - loss: nan - accuracy: 0.9774\n",
      "Epoch 57/100\n",
      "143/143 [==============================] - 0s 731us/step - loss: nan - accuracy: 0.9774\n",
      "Epoch 58/100\n",
      "143/143 [==============================] - 0s 710us/step - loss: nan - accuracy: 0.9774\n",
      "Epoch 59/100\n",
      "143/143 [==============================] - 0s 698us/step - loss: nan - accuracy: 0.9774\n",
      "Epoch 60/100\n",
      "143/143 [==============================] - 0s 711us/step - loss: nan - accuracy: 0.9774\n",
      "Epoch 61/100\n",
      "143/143 [==============================] - 0s 708us/step - loss: nan - accuracy: 0.9774\n",
      "Epoch 62/100\n",
      "143/143 [==============================] - 0s 726us/step - loss: nan - accuracy: 0.9774\n",
      "Epoch 63/100\n",
      "143/143 [==============================] - 0s 697us/step - loss: nan - accuracy: 0.9774\n",
      "Epoch 64/100\n",
      "143/143 [==============================] - 0s 796us/step - loss: nan - accuracy: 0.9774\n",
      "Epoch 65/100\n",
      "143/143 [==============================] - 0s 837us/step - loss: nan - accuracy: 0.9774\n",
      "Epoch 66/100\n",
      "143/143 [==============================] - 0s 824us/step - loss: nan - accuracy: 0.9774\n",
      "Epoch 67/100\n",
      "143/143 [==============================] - 0s 735us/step - loss: nan - accuracy: 0.9774\n",
      "Epoch 68/100\n",
      "143/143 [==============================] - 0s 695us/step - loss: nan - accuracy: 0.9774\n",
      "Epoch 69/100\n",
      "143/143 [==============================] - 0s 699us/step - loss: nan - accuracy: 0.9774\n",
      "Epoch 70/100\n",
      "143/143 [==============================] - 0s 696us/step - loss: nan - accuracy: 0.9774\n",
      "Epoch 71/100\n",
      "143/143 [==============================] - 0s 700us/step - loss: nan - accuracy: 0.9774\n",
      "Epoch 72/100\n",
      "143/143 [==============================] - 0s 738us/step - loss: nan - accuracy: 0.9774\n",
      "Epoch 73/100\n",
      "143/143 [==============================] - 0s 745us/step - loss: nan - accuracy: 0.9774\n",
      "Epoch 74/100\n",
      "143/143 [==============================] - 0s 731us/step - loss: nan - accuracy: 0.9774\n",
      "Epoch 75/100\n",
      "143/143 [==============================] - 0s 723us/step - loss: nan - accuracy: 0.9774\n",
      "Epoch 76/100\n",
      "143/143 [==============================] - 0s 710us/step - loss: nan - accuracy: 0.9774\n",
      "Epoch 77/100\n",
      "143/143 [==============================] - 0s 749us/step - loss: nan - accuracy: 0.9774\n",
      "Epoch 78/100\n",
      "143/143 [==============================] - 0s 748us/step - loss: nan - accuracy: 0.9774\n",
      "Epoch 79/100\n",
      "143/143 [==============================] - 0s 753us/step - loss: nan - accuracy: 0.9774\n",
      "Epoch 80/100\n",
      "143/143 [==============================] - 0s 736us/step - loss: nan - accuracy: 0.9774\n",
      "Epoch 81/100\n",
      "143/143 [==============================] - 0s 750us/step - loss: nan - accuracy: 0.9774\n",
      "Epoch 82/100\n"
     ]
    },
    {
     "name": "stdout",
     "output_type": "stream",
     "text": [
      "143/143 [==============================] - 0s 743us/step - loss: nan - accuracy: 0.9774\n",
      "Epoch 83/100\n",
      "143/143 [==============================] - 0s 761us/step - loss: nan - accuracy: 0.9774\n",
      "Epoch 84/100\n",
      "143/143 [==============================] - 0s 803us/step - loss: nan - accuracy: 0.9774\n",
      "Epoch 85/100\n",
      "143/143 [==============================] - 0s 862us/step - loss: nan - accuracy: 0.9774\n",
      "Epoch 86/100\n",
      "143/143 [==============================] - 0s 762us/step - loss: nan - accuracy: 0.9774\n",
      "Epoch 87/100\n",
      "143/143 [==============================] - 0s 757us/step - loss: nan - accuracy: 0.9774\n",
      "Epoch 88/100\n",
      "143/143 [==============================] - 0s 767us/step - loss: nan - accuracy: 0.9774\n",
      "Epoch 89/100\n",
      "143/143 [==============================] - 0s 775us/step - loss: nan - accuracy: 0.9774\n",
      "Epoch 90/100\n",
      "143/143 [==============================] - 0s 817us/step - loss: nan - accuracy: 0.9774\n",
      "Epoch 91/100\n",
      "143/143 [==============================] - 0s 826us/step - loss: nan - accuracy: 0.9774\n",
      "Epoch 92/100\n",
      "143/143 [==============================] - 0s 836us/step - loss: nan - accuracy: 0.9774\n",
      "Epoch 93/100\n",
      "143/143 [==============================] - 0s 707us/step - loss: nan - accuracy: 0.9774\n",
      "Epoch 94/100\n",
      "143/143 [==============================] - 0s 723us/step - loss: nan - accuracy: 0.9774\n",
      "Epoch 95/100\n",
      "143/143 [==============================] - 0s 758us/step - loss: nan - accuracy: 0.9774\n",
      "Epoch 96/100\n",
      "143/143 [==============================] - 0s 762us/step - loss: nan - accuracy: 0.9774\n",
      "Epoch 97/100\n",
      "143/143 [==============================] - 0s 801us/step - loss: nan - accuracy: 0.9774\n",
      "Epoch 98/100\n",
      "143/143 [==============================] - 0s 786us/step - loss: nan - accuracy: 0.9774\n",
      "Epoch 99/100\n",
      "143/143 [==============================] - 0s 733us/step - loss: nan - accuracy: 0.9774\n",
      "Epoch 100/100\n",
      "143/143 [==============================] - 0s 715us/step - loss: nan - accuracy: 0.9774\n"
     ]
    },
    {
     "data": {
      "text/plain": [
       "<keras.callbacks.History at 0x7f7a1b46d3d0>"
      ]
     },
     "execution_count": 13,
     "metadata": {},
     "output_type": "execute_result"
    }
   ],
   "source": [
    "#Fitting ANN\n",
    "ann.fit(X_train,Y_train,batch_size=32,epochs = 100)"
   ]
  },
  {
   "cell_type": "code",
   "execution_count": 15,
   "id": "4c7876f1",
   "metadata": {},
   "outputs": [
    {
     "name": "stdout",
     "output_type": "stream",
     "text": [
      "36/36 [==============================] - 0s 600us/step\n"
     ]
    }
   ],
   "source": [
    "#Predicting result for Observations\n",
    "Y_Pred= ann.predict(sc.transform(X_test)) > 0.5"
   ]
  },
  {
   "cell_type": "code",
   "execution_count": 20,
   "id": "728b6a33",
   "metadata": {},
   "outputs": [
    {
     "name": "stdout",
     "output_type": "stream",
     "text": [
      "\n",
      "MAE: \t0.02\n",
      "RMSE: \t0.15\n",
      "r2: \t-0.02\n",
      "\n"
     ]
    }
   ],
   "source": [
    "from sklearn import metrics\n",
    "mae = metrics.mean_absolute_error(Y_test, Y_Pred)\n",
    "\n",
    "mse = metrics.mean_squared_error(Y_test, Y_Pred)\n",
    "rmse = mse**0.5 \n",
    "\n",
    "r2 = metrics.r2_score(Y_test, Y_Pred)\n",
    "\n",
    "print(f\"\"\"\n",
    "MAE: \\t{mae:.2f}\n",
    "RMSE: \\t{rmse:.2f}\n",
    "r2: \\t{r2:.2f}\n",
    "\"\"\")"
   ]
  }
 ],
 "metadata": {
  "kernelspec": {
   "display_name": "Python 3 (ipykernel)",
   "language": "python",
   "name": "python3"
  },
  "language_info": {
   "codemirror_mode": {
    "name": "ipython",
    "version": 3
   },
   "file_extension": ".py",
   "mimetype": "text/x-python",
   "name": "python",
   "nbconvert_exporter": "python",
   "pygments_lexer": "ipython3",
   "version": "3.9.13"
  }
 },
 "nbformat": 4,
 "nbformat_minor": 5
}
